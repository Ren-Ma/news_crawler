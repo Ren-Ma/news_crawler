{
 "cells": [
  {
   "cell_type": "markdown",
   "metadata": {},
   "source": [
    "21. 渝中新闻 (mp4)\n",
    "https://yuzhong.cbg.cn/list/5575/1.html\n",
    "\n",
    "22. 大渡口新闻 (mp4)\n",
    "https://dadukou.cbg.cn/list/4901/1.html\n",
    "\n",
    "23. 江北新闻 (mp4)\n",
    "https://jiangbei.cbg.cn/list/10486/1.html\n",
    "\n",
    "24. 九龙新闻 (mp4)\n",
    "https://jiulongpo.cbg.cn/list/1543/1.html\n",
    "\n",
    "25. 巴南新闻 (mp4)\n",
    "https://banan.cbg.cn/list/16342/1.html\n",
    "\n",
    "26. 武隆新闻\n",
    "https://wulong.cbg.cn/list/10459/1.html\n",
    "\n",
    "27. 江津新闻\n",
    "https://jiangjin.cbg.cn/list/14021/1.html\n",
    "\n",
    "28. 永川新闻\n",
    "https://yongchuan.cbg.cn/list/7216/1.html\n",
    "\n",
    "29. 秀山新闻\n",
    "https://xiushan.cbg.cn/list/15629/1.html\n",
    "\n",
    "30. 石柱新闻\n",
    "https://shizhu.cbg.cn/list/7628/1.html\n",
    "\n",
    "31. 巫溪新闻\n",
    "https://wuxi.cbg.cn/list/10311/1.html\n",
    "\n",
    "32. 开州新闻\n",
    "https://kaizhou.cbg.cn/category/7860/1.html?from_source=kaizhou.cbg.cn\n"
   ]
  },
  {
   "cell_type": "code",
   "execution_count": null,
   "metadata": {
    "pycharm": {
     "name": "#%%\n"
    },
    "tags": []
   },
   "outputs": [],
   "source": [
    "import json\n",
    "\n",
    "import requests"
   ]
  },
  {
   "cell_type": "code",
   "execution_count": null,
   "metadata": {
    "tags": []
   },
   "outputs": [],
   "source": [
    "def get_video_list(page):\n",
    "    headers = {\n",
    "        \"User-Agent\": \"Mozilla/5.0 (Macintosh; Intel Mac OS X 10_11_5) AppleWebKit/537.36 (KHTML, like Gecko) Chrome/50.0.2661.102 Safari/537.36\"\n",
    "    }\n",
    "    response = requests.get(\n",
    "        \"https://app.litenews.cn/v1/app/play/tv/json\",\n",
    "        params=dict(\n",
    "            pagesize=10,  # this is locked at 10 no matter what you set\n",
    "            cateid=5777,\n",
    "            _orgid_=179,\n",
    "            page=page,\n",
    "        ),\n",
    "        headers=headers,\n",
    "    )\n",
    "    response = json.loads(response.content.decode())\n",
    "    # print(response)\n",
    "    video_list = [\n",
    "        dict(\n",
    "            id=x[\"id\"],\n",
    "            title=x[\"title\"],\n",
    "            page_url=x[\"url\"],\n",
    "            meida_url=x[\"media\"][0][\"url\"],\n",
    "        )\n",
    "        for x in response[\"data\"][\"infos\"]\n",
    "        if \"德州新闻联播\" in x[\"title\"]\n",
    "    ]\n",
    "    return video_list"
   ]
  },
  {
   "cell_type": "code",
   "execution_count": null,
   "metadata": {
    "collapsed": false,
    "jupyter": {
     "outputs_hidden": false
    },
    "pycharm": {
     "name": "#%%\n"
    },
    "scrolled": true,
    "tags": []
   },
   "outputs": [],
   "source": [
    "import datetime\n",
    "import re\n",
    "\n",
    "# from .main import get_video_list\n",
    "\n",
    "target_date = datetime.datetime(2022, 10, 1)\n",
    "\n",
    "current_date = datetime.datetime.now()\n",
    "page = 1\n",
    "complete_video_list = []\n",
    "while current_date > target_date:\n",
    "    video_list = get_video_list(page)\n",
    "    print(video_list)\n",
    "    if len(video_list) > 0:\n",
    "        current_date = datetime.datetime(\n",
    "            *list(map(int, re.findall(r\"\\d+\", video_list[-1][\"title\"])))\n",
    "        )\n",
    "        print(\n",
    "            f\"got {len(video_list)} news video on page {page}, now at {current_date.date()}\"\n",
    "        )\n",
    "        complete_video_list.extend(video_list)\n",
    "    page += 1"
   ]
  },
  {
   "cell_type": "code",
   "execution_count": null,
   "metadata": {
    "collapsed": false,
    "jupyter": {
     "outputs_hidden": false
    },
    "pycharm": {
     "is_executing": true,
     "name": "#%%\n"
    },
    "scrolled": true,
    "tags": []
   },
   "outputs": [],
   "source": [
    "link = \"https://stream6.iqilu.com/179/2022/10/01/9928f82fe22b733fc92f18424bc9a910.mp4\"\n",
    "r = requests.get(link, stream=True)\n",
    "# with open(link.split('/')[-1] , 'wb') as f:\n",
    "with open(\"9928f82fe22b733fc92f18424bc9a910.mp4\", \"wb\") as f:\n",
    "    for chunk in r.iter_content(chunk_size=1024 * 1024):\n",
    "        if chunk:\n",
    "            f.write(chunk)"
   ]
  },
  {
   "cell_type": "code",
   "execution_count": null,
   "metadata": {
    "pycharm": {
     "name": "#%% md\n"
    }
   },
   "outputs": [],
   "source": [
    "link = \"https://stream6.iqilu.com/179/2022/10/01/9928f82fe22b733fc92f18424bc9a910.mp4\"\n",
    "link.split(\"/\")[-1]"
   ]
  },
  {
   "cell_type": "code",
   "execution_count": null,
   "metadata": {},
   "outputs": [],
   "source": []
  },
  {
   "cell_type": "code",
   "execution_count": null,
   "metadata": {},
   "outputs": [],
   "source": [
    "https://app.litenews.cn/v1/app/play/tv/json\n",
    "https://www.sanyarb.com.cn/sanyaxinwen2/2022/10/21/detail_20221021362517.html"
   ]
  },
  {
   "cell_type": "code",
   "execution_count": null,
   "metadata": {},
   "outputs": [],
   "source": [
    "https://cms.media.sanyarb.com.cn/20221021/1fe1ca18afc3429189792977638ec3af.mp4\n",
    "https://www.sanyarb.com.cn/sanyaxinwen2/2022/10/21/detail_20221021362517.html"
   ]
  },
  {
   "cell_type": "code",
   "execution_count": null,
   "metadata": {},
   "outputs": [],
   "source": [
    "https://www.sanyarb.com.cn/js/18737/mi4_sub_articles_20221103.js?v=20221103212348"
   ]
  },
  {
   "cell_type": "code",
   "execution_count": null,
   "metadata": {
    "tags": []
   },
   "outputs": [],
   "source": [
    "def get_video_list(page):\n",
    "    headers = {\n",
    "        \"User-Agent\": \"Mozilla/5.0 (Macintosh; Intel Mac OS X 10_11_5) AppleWebKit/537.36 (KHTML, like Gecko) Chrome/50.0.2661.102 Safari/537.36\"\n",
    "    }\n",
    "    response = requests.get(\n",
    "        \"https://www.sanyarb.com.cn/js/18737/mi4_sub_articles_20221103.js?\",\n",
    "        # params=dict(\n",
    "        #     pagesize=18737,  # this is locked at 10 no matter what you set\n",
    "        #     # cateid=5777,\n",
    "        #     # _orgid_=179,\n",
    "        #     page=page\n",
    "        # ),\n",
    "        headers=headers,\n",
    "    )\n",
    "    response = json.loads(response.content.decode())\n",
    "    print(response)\n",
    "    video_list = [\n",
    "        dict(\n",
    "            id=x[\"id\"],\n",
    "            title=x[\"title\"],\n",
    "            page_url=x[\"url\"],\n",
    "            meida_url=x[\"media\"][0][\"url\"],\n",
    "        )\n",
    "        for x in response[\"data\"][\"infos\"]\n",
    "        if \"德州新闻联播\" in x[\"title\"]\n",
    "    ]\n",
    "    return video_list"
   ]
  },
  {
   "cell_type": "code",
   "execution_count": null,
   "metadata": {
    "collapsed": false,
    "jupyter": {
     "outputs_hidden": false
    },
    "pycharm": {
     "name": "#%%\n"
    }
   },
   "outputs": [],
   "source": [
    "get_video_list(1)"
   ]
  },
  {
   "cell_type": "code",
   "execution_count": null,
   "metadata": {
    "tags": []
   },
   "outputs": [],
   "source": [
    "import ast\n",
    "\n",
    "for item in ast.literal_eval(\n",
    "    \"[\"\n",
    "    + requests.get(\n",
    "        \"https://www.sanyarb.com.cn/js/18737/mi4_sub_articles_2022{data}.js\".format(\n",
    "            data=\"1012\"\n",
    "        )\n",
    "    ).text.split(\"[\")[1]\n",
    "):\n",
    "    if \"三亚新闻2022\" in item[\"title\"]:\n",
    "        print(item[\"url\"])"
   ]
  },
  {
   "cell_type": "markdown",
   "metadata": {},
   "source": [
    "# 淄博"
   ]
  },
  {
   "cell_type": "code",
   "execution_count": null,
   "metadata": {
    "scrolled": true,
    "tags": []
   },
   "outputs": [],
   "source": [
    "import chardet\n",
    "from bs4 import BeautifulSoup\n",
    "\n",
    "headers = {\n",
    "    \"User-Agent\": \"Mozilla/5.0 (Macintosh; Intel Mac OS X 10_11_5) AppleWebKit/537.36 (KHTML, like Gecko) Chrome/50.0.2661.102 Safari/537.36\"\n",
    "}\n",
    "html_dir = []\n",
    "for i in range(51):\n",
    "    rqg = requests.get(\n",
    "        \"https://www.cbbn.net/folder34/folder36/folder46/folder68/?column_sign=folder34%2Ffolder36%2Ffolder46%2Ffolder68&page={data}\".format(\n",
    "            data=str(i + 1)\n",
    "        ),\n",
    "        headers=headers,\n",
    "        timeout=3.0,\n",
    "    )  # .content\n",
    "    rqg.encoding = chardet.detect(rqg.content)[\"encoding\"]\n",
    "    html = rqg.content.decode(\"utf-8\")\n",
    "    soup = BeautifulSoup(html, \"lxml\")  # 生成BeautifulSoup对象\n",
    "    for item in soup.find_all(target=\"_blank\"):\n",
    "        try:\n",
    "            if \"html\" in item[\"href\"]:\n",
    "                html_dir.append(item[\"href\"])\n",
    "        except:\n",
    "            pass"
   ]
  },
  {
   "cell_type": "code",
   "execution_count": null,
   "metadata": {
    "tags": []
   },
   "outputs": [],
   "source": [
    "soup.find_all(target=\"_blank\")[0][\"data-id\"]"
   ]
  },
  {
   "cell_type": "code",
   "execution_count": null,
   "metadata": {
    "scrolled": true,
    "tags": []
   },
   "outputs": [],
   "source": [
    "html_dir.append(\n",
    "    \"http://www.cbbn.net/folder34/folder36/folder46/folder68/2022-01-01/hVOiXtxaHDnPE2dg.html\"\n",
    ")"
   ]
  },
  {
   "cell_type": "code",
   "execution_count": null,
   "metadata": {
    "tags": []
   },
   "outputs": [],
   "source": [
    "len(html_dir)"
   ]
  },
  {
   "cell_type": "code",
   "execution_count": null,
   "metadata": {
    "scrolled": true,
    "tags": []
   },
   "outputs": [],
   "source": [
    "video_dir = {}\n",
    "for item in html_dir:\n",
    "    print(item.split(\"2022-\")[1].split(\"/\")[0].replace(\"-\", \"\"))\n",
    "    rqg = requests.get(item, headers=headers, timeout=3.0)  # .content\n",
    "    rqg.encoding = chardet.detect(rqg.content)[\"encoding\"]\n",
    "    html = rqg.content.decode(\"utf-8\")\n",
    "    soup = BeautifulSoup(html, \"lxml\")  # 生成BeautifulSoup对象\n",
    "    if (\n",
    "        \".mp4\"\n",
    "        in list(\n",
    "            json.loads(\n",
    "                str(soup).split(\"content_materials = \")[1].split(\";\")[0]\n",
    "            ).values()\n",
    "        )[0][\"url\"]\n",
    "    ):\n",
    "        video_dir[item.split(\"2022-\")[1].split(\"/\")[0].replace(\"-\", \"\")] = list(\n",
    "            json.loads(\n",
    "                str(soup).split(\"content_materials = \")[1].split(\";\")[0]\n",
    "            ).values()\n",
    "        )[0][\"url\"]"
   ]
  },
  {
   "cell_type": "code",
   "execution_count": null,
   "metadata": {},
   "outputs": [],
   "source": [
    "video_dir[\n",
    "    \"0315\"\n",
    "] = \"http://vod.cbbn.net/video/2022/03/15/b8b80af992059133504e0b855594f9f5.mp4\"\n",
    "video_dir[\n",
    "    \"0810\"\n",
    "] = \"http://vod.cbbn.net/video/2022/08/11/098b7b48dafa7caf7031e923097e4b7c.mp4\""
   ]
  },
  {
   "cell_type": "code",
   "execution_count": null,
   "metadata": {
    "tags": []
   },
   "outputs": [],
   "source": [
    "len(list(video_dir.keys()))"
   ]
  },
  {
   "cell_type": "code",
   "execution_count": null,
   "metadata": {
    "tags": []
   },
   "outputs": [],
   "source": [
    "len(list(video_dir.values()))"
   ]
  },
  {
   "cell_type": "code",
   "execution_count": null,
   "metadata": {
    "scrolled": true,
    "tags": []
   },
   "outputs": [],
   "source": [
    "for i in date_list:\n",
    "    if i not in video_dir:\n",
    "        print(i)"
   ]
  },
  {
   "cell_type": "code",
   "execution_count": null,
   "metadata": {
    "tags": []
   },
   "outputs": [],
   "source": [
    "import pickle\n",
    "\n",
    "with open(\"/data/lss/deepenv/deepenv-data/news_zibo.pkl\", \"wb\") as f:\n",
    "    # with open('news_mp4.pkl','wb') as f:\n",
    "    pickle.dump(video_dir, f)"
   ]
  },
  {
   "cell_type": "markdown",
   "metadata": {},
   "source": [
    "# 三亚"
   ]
  },
  {
   "cell_type": "code",
   "execution_count": null,
   "metadata": {
    "tags": []
   },
   "outputs": [],
   "source": [
    "import datetime\n",
    "\n",
    "begin = datetime.date(2022, 1, 1)\n",
    "end = datetime.date(2022, 11, 4)\n",
    "d = begin\n",
    "delta = datetime.timedelta(days=1)\n",
    "date_list = []\n",
    "while d <= end:\n",
    "    # print(d.strftime(\"%Y-%m-%d\"))\n",
    "    date_list.append(d.strftime(\"%m%d\"))\n",
    "    d += delta"
   ]
  },
  {
   "cell_type": "code",
   "execution_count": null,
   "metadata": {
    "tags": []
   },
   "outputs": [],
   "source": [
    "len(date_list)"
   ]
  },
  {
   "cell_type": "code",
   "execution_count": null,
   "metadata": {
    "tags": []
   },
   "outputs": [],
   "source": [
    "date_list = date_list[-4:]"
   ]
  },
  {
   "cell_type": "code",
   "execution_count": null,
   "metadata": {
    "tags": []
   },
   "outputs": [],
   "source": [
    "import ast\n",
    "\n",
    "first_layer = []\n",
    "for date in date_list:\n",
    "    for item in ast.literal_eval(\n",
    "        \"[\"\n",
    "        + requests.get(\n",
    "            \"https://www.sanyarb.com.cn/js/18737/mi4_sub_articles_2022{data}.js\".format(\n",
    "                data=date\n",
    "            )\n",
    "        ).text.split(\"[\")[1]\n",
    "    ):\n",
    "        if \"三亚新闻2022\" in item[\"title\"]:\n",
    "            first_layer.append(item[\"url\"])"
   ]
  },
  {
   "cell_type": "code",
   "execution_count": null,
   "metadata": {
    "scrolled": true,
    "tags": []
   },
   "outputs": [],
   "source": [
    "ast.literal_eval(\n",
    "    \"[\"\n",
    "    + requests.get(\n",
    "        \"https://www.sanyarb.com.cn/js/18737/mi4_sub_articles_2022{data}.js\".format(\n",
    "            data=\"0113\"\n",
    "        )\n",
    "    ).text.split(\"[\")[1]\n",
    ")"
   ]
  },
  {
   "cell_type": "code",
   "execution_count": null,
   "metadata": {
    "tags": []
   },
   "outputs": [],
   "source": [
    "len(first_layer)"
   ]
  },
  {
   "cell_type": "code",
   "execution_count": null,
   "metadata": {
    "tags": []
   },
   "outputs": [],
   "source": [
    "import chardet\n",
    "from bs4 import BeautifulSoup\n",
    "\n",
    "headers = {\n",
    "    \"User-Agent\": \"Mozilla/5.0 (Macintosh; Intel Mac OS X 10_11_5) AppleWebKit/537.36 (KHTML, like Gecko) Chrome/50.0.2661.102 Safari/537.36\"\n",
    "}\n",
    "vedio_dir = {}\n",
    "for idx, item in enumerate(first_layer):\n",
    "    rqg = requests.get(item, headers=headers, timeout=3.0)  # .content\n",
    "    rqg.encoding = chardet.detect(rqg.content)[\"encoding\"]\n",
    "    html = rqg.content.decode(\"utf-8\")\n",
    "    soup = BeautifulSoup(html, \"lxml\")  # 生成BeautifulSoup对象\n",
    "    vedio_dir[item.split(\"detail_\")[1][4:8]] = (\n",
    "        str(soup.find_all(id=\"articleContent\")[0])\n",
    "        .split(' src=\"')[1]\n",
    "        .split('\" style=\"')[0]\n",
    "    )"
   ]
  },
  {
   "cell_type": "code",
   "execution_count": null,
   "metadata": {
    "tags": []
   },
   "outputs": [],
   "source": [
    "len(list(vedio_dir.values()))"
   ]
  },
  {
   "cell_type": "code",
   "execution_count": null,
   "metadata": {},
   "outputs": [],
   "source": [
    "vedio_dir"
   ]
  },
  {
   "cell_type": "code",
   "execution_count": null,
   "metadata": {
    "tags": []
   },
   "outputs": [],
   "source": [
    "import pickle\n",
    "\n",
    "# with open('/data/lss/deepenv/deepenv-data/news_mp4.pkl','wb') as f:\n",
    "with open(\"news_mp4.pkl\", \"wb\") as f:\n",
    "    pickle.dump(vedio_dir, f)"
   ]
  },
  {
   "cell_type": "code",
   "execution_count": null,
   "metadata": {
    "scrolled": true,
    "tags": []
   },
   "outputs": [],
   "source": [
    "with open(\"news_mp4.pkl\", \"rb\") as f:\n",
    "    vedio_dir_new = pickle.load(f)"
   ]
  },
  {
   "cell_type": "code",
   "execution_count": null,
   "metadata": {
    "scrolled": true,
    "tags": []
   },
   "outputs": [],
   "source": [
    "for i in date_list:\n",
    "    if i not in vedio_dir_new:\n",
    "        print(i)"
   ]
  },
  {
   "cell_type": "code",
   "execution_count": null,
   "metadata": {},
   "outputs": [],
   "source": []
  },
  {
   "cell_type": "code",
   "execution_count": null,
   "metadata": {},
   "outputs": [],
   "source": []
  },
  {
   "cell_type": "code",
   "execution_count": null,
   "metadata": {},
   "outputs": [],
   "source": [
    "import requests\n",
    "\n",
    "for date, link in vedio_dir_new.items():\n",
    "    # link = 'https://stream6.iqilu.com/179/2022/10/01/9928f82fe22b733fc92f18424bc9a910.mp4'\n",
    "    r = requests.get(link, stream=True)\n",
    "    # with open(link.split('/')[-1] , 'wb') as f:\n",
    "    with open(\"./sanya_news_vedio/\" + date + \".mp4\", \"wb\") as f:\n",
    "        for chunk in r.iter_content(chunk_size=1024 * 1024):\n",
    "            if chunk:\n",
    "                f.write(chunk)"
   ]
  },
  {
   "cell_type": "code",
   "execution_count": null,
   "metadata": {},
   "outputs": [],
   "source": []
  },
  {
   "cell_type": "code",
   "execution_count": null,
   "metadata": {
    "scrolled": true,
    "tags": []
   },
   "outputs": [],
   "source": [
    "import chardet\n",
    "from bs4 import BeautifulSoup\n",
    "\n",
    "headers = {\n",
    "    \"User-Agent\": \"Mozilla/5.0 (Macintosh; Intel Mac OS X 10_11_5) AppleWebKit/537.36 (KHTML, like Gecko) Chrome/50.0.2661.102 Safari/537.36\"\n",
    "}\n",
    "rqg = requests.get(first_layer[69], headers=headers, timeout=3.0)  # .content\n",
    "rqg.encoding = chardet.detect(rqg.content)[\"encoding\"]\n",
    "html = rqg.content.decode(\"utf-8\")\n",
    "soup = BeautifulSoup(html, \"lxml\")  # 生成BeautifulSoup对象\n",
    "# print('输出格式化的BeautifulSoup对象：',soup.prettify())\n",
    "\n",
    "# print('名为title的全部子节点：',soup.find_all(\"title\"))\n",
    "\n",
    "# print('title子节点的文本内容：',soup.title.string)\n",
    "# print('使用get_text()获取的文本内容：',soup.title.get_text())\n",
    "\n",
    "# target = soup.find_all('ul',class_='menu') #按照css类名完全匹配\n",
    "# target = soup.find_all(id='menu') #传入关键字id，搜索符合条件的节点\n",
    "# target = soup.ul.find_all('a') #所有名称为a的节点"
   ]
  },
  {
   "cell_type": "code",
   "execution_count": null,
   "metadata": {
    "tags": []
   },
   "outputs": [],
   "source": [
    "str(soup.find_all(id=\"articleContent\")[0]).split(' src=\"')[1].split('\" style=\"')[0]"
   ]
  },
  {
   "cell_type": "markdown",
   "metadata": {},
   "source": [
    "九江新闻： https://www.jjntv.cn/channel?spm=0.0.0.0.FdDLyF&id=72\n",
    "\n",
    "https://video.yun.jxntv.cn/fs/transcode/20221101/15d/694090_1667307117_transv.mp4\n",
    "\n",
    "许昌新闻：http://v.xctv.cn/videos/category/1?page_id=1\n",
    "\n",
    "http://source.xctv.cn/upload/videos/2022/11/Vz52d6NjlsqnsbpXTPvx_04_f09ca9542f35ce6bdb49feb1c2c7c866_video_1080p_converted.mp4\n",
    "\n",
    "襄阳新闻：在http://www.xyrtv.com/search/lists.html 搜襄阳新闻73\n",
    "\n",
    "https://videoplus.cjyun.org/20221010/2376787_2376787_1665407526_transv.mp4\n",
    "\n",
    "三沙新闻：http://www.sansha.gov.cn/sansha/sswshi/nlists3.shtml\n",
    "\n",
    "http://www.sansha.gov.cn/sansha/dsgtrfbxdc/202210/fdadf069fd974ce5abd7aa9aa41df8c6/files/1462d15d6920464b86f7a20075a834b5.mp4\n",
    "\n",
    "莆田新闻：https://www.ptbtv.com/vod/folder56/folder58/folder69/"
   ]
  },
  {
   "cell_type": "markdown",
   "metadata": {},
   "source": [
    "# 许昌"
   ]
  },
  {
   "cell_type": "code",
   "execution_count": null,
   "metadata": {
    "scrolled": true,
    "tags": []
   },
   "outputs": [],
   "source": [
    "import chardet\n",
    "from bs4 import BeautifulSoup\n",
    "\n",
    "headers = {\n",
    "    \"User-Agent\": \"Mozilla/5.0 (Macintosh; Intel Mac OS X 10_11_5) AppleWebKit/537.36 (KHTML, like Gecko) Chrome/50.0.2661.102 Safari/537.36\"\n",
    "}\n",
    "html_dir = []\n",
    "for i in range(108):\n",
    "    rqg = requests.get(\n",
    "        \"http://v.xctv.cn/videos/category/1?page_id={data}\".format(data=str(i + 1)),\n",
    "        headers=headers,\n",
    "        timeout=3.0,\n",
    "    )  # .content\n",
    "    rqg.encoding = chardet.detect(rqg.content)[\"encoding\"]\n",
    "    html = rqg.content.decode(\"utf-8\")\n",
    "    soup = BeautifulSoup(html, \"lxml\")  # 生成BeautifulSoup对象\n",
    "    for item in soup.find_all(class_=\"video-title\"):\n",
    "        try:\n",
    "            # if \"hml\" in item.contents[1]['href']:\n",
    "            #       html_dir.append(item.contents[1]['href'])\n",
    "            if \"2022年\" in str(item.contents[1]) and \"日许昌新闻\" in str(item.contents[1]):\n",
    "                html_dir.append(item.contents[1][\"href\"])\n",
    "                # print(item)\n",
    "        except:\n",
    "            pass"
   ]
  },
  {
   "cell_type": "code",
   "execution_count": null,
   "metadata": {
    "tags": []
   },
   "outputs": [],
   "source": [
    "len(html_dir)"
   ]
  },
  {
   "cell_type": "code",
   "execution_count": null,
   "metadata": {
    "tags": []
   },
   "outputs": [],
   "source": [
    "import re\n",
    "\n",
    "\n",
    "def date_trans(date):\n",
    "    date_list = re.split(\"[月日]\", date)[:-1]\n",
    "    date_list_1 = [\"0\" + d if len(d) == 1 else d for d in date_list]\n",
    "    return \"\".join(date_list_1)"
   ]
  },
  {
   "cell_type": "code",
   "execution_count": null,
   "metadata": {
    "scrolled": true,
    "tags": []
   },
   "outputs": [],
   "source": [
    "from tqdm import tqdm\n",
    "\n",
    "video_dir = {}\n",
    "for item in tqdm(html_dir):\n",
    "    rqg = requests.get(item, headers=headers, timeout=3.0)  # .content\n",
    "    rqg.encoding = chardet.detect(rqg.content)[\"encoding\"]\n",
    "    html = rqg.content.decode(\"utf-8\")\n",
    "    soup = BeautifulSoup(html, \"lxml\")  # 生成BeautifulSoup对象\n",
    "    if (\n",
    "        \"1080p\"\n",
    "        in str(soup.find_all(class_=\"video-player\")[0].contents[1].contents[1])\n",
    "        .split('src=\"')[1]\n",
    "        .split('\" title=')[0]\n",
    "    ):\n",
    "        # print(date_trans(str(soup.title).split(\"2022年\")[1].split('许昌新闻')[0].replace('年','')))\n",
    "        video_dir[\n",
    "            date_trans(\n",
    "                str(soup.title).split(\"2022年\")[1].split(\"许昌新闻\")[0].replace(\"年\", \"\")\n",
    "            )\n",
    "        ] = (\n",
    "            str(soup.find_all(class_=\"video-player\")[0].contents[1].contents[1])\n",
    "            .split('src=\"')[1]\n",
    "            .split('\" title=')[0]\n",
    "        )"
   ]
  },
  {
   "cell_type": "code",
   "execution_count": null,
   "metadata": {
    "tags": []
   },
   "outputs": [],
   "source": [
    "len(video_dir)"
   ]
  },
  {
   "cell_type": "code",
   "execution_count": null,
   "metadata": {
    "tags": []
   },
   "outputs": [],
   "source": [
    "import datetime\n",
    "\n",
    "begin = datetime.date(2022, 1, 1)\n",
    "end = datetime.date(2022, 11, 6)\n",
    "d = begin\n",
    "delta = datetime.timedelta(days=1)\n",
    "date_list = []\n",
    "while d <= end:\n",
    "    # print(d.strftime(\"%Y-%m-%d\"))\n",
    "    date_list.append(d.strftime(\"%m%d\"))\n",
    "    d += delta\n",
    "len(date_list)"
   ]
  },
  {
   "cell_type": "code",
   "execution_count": null,
   "metadata": {
    "scrolled": true,
    "tags": []
   },
   "outputs": [],
   "source": [
    "for i in date_list:\n",
    "    if i not in video_dir:\n",
    "        print(i)"
   ]
  },
  {
   "cell_type": "code",
   "execution_count": null,
   "metadata": {
    "tags": []
   },
   "outputs": [],
   "source": [
    "str(soup.find_all(class_=\"video-player\")[0].contents[1].contents[1]).split('src=\"')[\n",
    "    1\n",
    "].split('\" title=')[0]"
   ]
  },
  {
   "cell_type": "code",
   "execution_count": null,
   "metadata": {
    "tags": []
   },
   "outputs": [],
   "source": [
    "rqg = requests.get(\n",
    "    \"http://v.xctv.cn/watch/6DX6Hv36I4e2Jxq\", headers=headers, timeout=3.0\n",
    ")  # .content\n",
    "rqg.encoding = chardet.detect(rqg.content)[\"encoding\"]\n",
    "html = rqg.content.decode(\"utf-8\")\n",
    "soup = BeautifulSoup(html, \"lxml\")\n",
    "soup.title"
   ]
  },
  {
   "cell_type": "code",
   "execution_count": null,
   "metadata": {
    "tags": []
   },
   "outputs": [],
   "source": [
    "import pickle\n",
    "\n",
    "# with open(\"/data/lss/deepenv/deepenv-data/news_xuchang.pkl\", \"wb\") as f:\n",
    "with open(\"./pachong/pkl/news_xuchang.pkl\", \"wb\") as f:\n",
    "    pickle.dump(video_dir, f)"
   ]
  },
  {
   "cell_type": "code",
   "execution_count": null,
   "metadata": {
    "tags": []
   },
   "outputs": [],
   "source": [
    "with open(\"./pachong/pkl/news_xuchang.pkl\", \"rb\") as f:\n",
    "    video_dir_new = pickle.load(f)"
   ]
  },
  {
   "cell_type": "code",
   "execution_count": null,
   "metadata": {
    "scrolled": true,
    "tags": []
   },
   "outputs": [],
   "source": [
    "video_dir_new"
   ]
  },
  {
   "cell_type": "markdown",
   "metadata": {},
   "source": [
    "# 九江"
   ]
  },
  {
   "cell_type": "code",
   "execution_count": null,
   "metadata": {},
   "outputs": [],
   "source": [
    "# https://app.yun.jxntv.cn/content/index/list?siteid=10045&catids=72&page=2&pagesize=11&callback=_jsonpigfr1qyikjj"
   ]
  },
  {
   "cell_type": "code",
   "execution_count": null,
   "metadata": {
    "tags": []
   },
   "outputs": [],
   "source": [
    "import chardet\n",
    "from bs4 import BeautifulSoup\n",
    "\n",
    "headers = {\n",
    "    \"User-Agent\": \"Mozilla/5.0 (Macintosh; Intel Mac OS X 10_11_5) AppleWebKit/537.36 (KHTML, like Gecko) Chrome/50.0.2661.102 Safari/537.36\"\n",
    "}\n",
    "html_dir = []\n",
    "for i in range(15):\n",
    "    rqg = requests.get(\n",
    "        \"https://app.yun.jxntv.cn/content/index/list?siteid=10045&catids=72&page={data}&pagesize=10&callback=_jsonpigfr1qyikjj\".format(\n",
    "            data=str(i + 1)\n",
    "        ),\n",
    "        headers=headers,\n",
    "        timeout=10.0,\n",
    "    )  # .content\n",
    "    rqg.encoding = chardet.detect(rqg.content)[\"encoding\"]\n",
    "    html = rqg.content.decode(\"utf-8\")\n",
    "    soup = BeautifulSoup(html, \"lxml\")  # 生成BeautifulSoup对象\n",
    "    for item in json.loads(\n",
    "        soup.body.contents[0].contents[0].split(\"_jsonpigfr1qyikjj(\")[1].split(\");\")[0]\n",
    "    )[\"data\"]:\n",
    "        try:\n",
    "            html_dir.append(item[\"url\"])\n",
    "        except:\n",
    "            pass"
   ]
  },
  {
   "cell_type": "code",
   "execution_count": null,
   "metadata": {
    "tags": []
   },
   "outputs": [],
   "source": [
    "len(list(set(html_dir)))"
   ]
  },
  {
   "cell_type": "code",
   "execution_count": null,
   "metadata": {
    "tags": []
   },
   "outputs": [],
   "source": [
    "from tqdm import tqdm\n",
    "\n",
    "video_dir = {}\n",
    "for item in tqdm(html_dir):\n",
    "    rqg = requests.get(item, headers=headers, timeout=10.0)  # .content\n",
    "    rqg.encoding = chardet.detect(rqg.content)[\"encoding\"]\n",
    "    html = rqg.content.decode(\"utf-8\")\n",
    "    soup = BeautifulSoup(html, \"lxml\")  # 生成BeautifulSoup对象\n",
    "    try:\n",
    "        video_dir[\n",
    "            \"\".join(\n",
    "                str(soup.title)\n",
    "                .replace(\"（\", \"(\")\n",
    "                .replace(\"）\", \")\")\n",
    "                .split(\"(\")[1]\n",
    "                .split(\")\")[0]\n",
    "                .split(\"/\")[1:]\n",
    "            )\n",
    "        ] = soup.find_all(class_=\"player\")[0].contents[0][\"src\"]\n",
    "    except:\n",
    "        pass\n",
    "        # video_dir[''.join(str(soup.title).replace('（','(').replace('）',')').split('(')[1].split(')')[0].split('/')[1:])] = str(soup.find_all(id=\"content_size\")[0].contents[1]).split('src=\"')[1].split('\" style')[0]"
   ]
  },
  {
   "cell_type": "code",
   "execution_count": null,
   "metadata": {
    "tags": []
   },
   "outputs": [],
   "source": [
    "# https://app.yun.jxntv.cn/video/player/index?vid=6113&thumb=https%3A%2F%2Fres.yun.jxntv.cn%2Fa%2F10045%2F202211%2Fce5dd733030924a5280c34a07bc51382.jpg&sid=10045&next=&autoStart=0&type=&video_type=0&customid=11525&channel="
   ]
  },
  {
   "cell_type": "code",
   "execution_count": null,
   "metadata": {
    "tags": []
   },
   "outputs": [],
   "source": [
    "len(video_dir)"
   ]
  },
  {
   "cell_type": "code",
   "execution_count": null,
   "metadata": {
    "tags": []
   },
   "outputs": [],
   "source": [
    "rqg = requests.get(item, headers=headers, timeout=3.0)  # .content\n",
    "rqg.encoding = chardet.detect(rqg.content)[\"encoding\"]\n",
    "html = rqg.content.decode(\"utf-8\")\n",
    "soup = BeautifulSoup(html, \"lxml\")  # 生成BeautifulSoup对象\n",
    "soup.title"
   ]
  },
  {
   "cell_type": "code",
   "execution_count": null,
   "metadata": {
    "tags": []
   },
   "outputs": [],
   "source": [
    "\"\".join(\n",
    "    str(soup.title)\n",
    "    .replace(\"（\", \"(\")\n",
    "    .replace(\"）\", \")\")\n",
    "    .split(\"(\")[1]\n",
    "    .split(\")\")[0]\n",
    "    .split(\"/\")[1:]\n",
    ")"
   ]
  },
  {
   "cell_type": "code",
   "execution_count": null,
   "metadata": {
    "tags": []
   },
   "outputs": [],
   "source": [
    "str(soup.find_all(id=\"content_size\")[0].contents[1]).split('src=\"')[1].split('\" style')[\n",
    "    0\n",
    "]"
   ]
  },
  {
   "cell_type": "code",
   "execution_count": null,
   "metadata": {
    "tags": []
   },
   "outputs": [],
   "source": [
    "for date, link in tqdm(video_dir.items()):\n",
    "    rqg = requests.get(link, headers=headers, timeout=3.0)\n",
    "    rqg.encoding = chardet.detect(rqg.content)[\"encoding\"]\n",
    "    html = rqg.content.decode(\"utf-8\")\n",
    "    soup = BeautifulSoup(html, \"lxml\")  # 生成BeautifulSoup对象\n",
    "    sid = (\n",
    "        str(soup.find(\"script\"))\n",
    "        .replace(\"\\r\\n        \", \"\")\n",
    "        .split(\"sid='\")[1]\n",
    "        .split(\"';var\")[0]\n",
    "    )\n",
    "    vid = (\n",
    "        str(soup.find(\"script\"))\n",
    "        .replace(\"\\r\\n        \", \"\")\n",
    "        .split(\"php_vid='\")[1]\n",
    "        .split(\"';var\")[0]\n",
    "    )\n",
    "    tmp = \"https://app.yun.jxntv.cn/video/player/video?sid={sid}&vid={vid}&type=video\".format(\n",
    "        sid=sid, vid=vid\n",
    "    )\n",
    "    video_dir[date] = json.loads(requests.get(tmp, headers=headers, timeout=3.0).text)[\n",
    "        \"file\"\n",
    "    ][\"sd\"]"
   ]
  },
  {
   "cell_type": "code",
   "execution_count": null,
   "metadata": {},
   "outputs": [],
   "source": [
    "tmp"
   ]
  },
  {
   "cell_type": "code",
   "execution_count": null,
   "metadata": {},
   "outputs": [],
   "source": []
  },
  {
   "cell_type": "code",
   "execution_count": null,
   "metadata": {
    "tags": []
   },
   "outputs": [],
   "source": [
    "import pickle\n",
    "\n",
    "# with open(\"/data/lss/deepenv/deepenv-data/news_xuchang.pkl\", \"wb\") as f:\n",
    "with open(\"./pachong/pkl/news_jiujiang.pkl\", \"wb\") as f:\n",
    "    pickle.dump(video_dir, f)"
   ]
  },
  {
   "cell_type": "code",
   "execution_count": null,
   "metadata": {
    "scrolled": true,
    "tags": []
   },
   "outputs": [],
   "source": [
    "with open(\"./pachong/pkl/news_jiujiang.pkl\", \"rb\") as f:\n",
    "    video_dir_new = pickle.load(f)\n",
    "video_dir_new"
   ]
  },
  {
   "cell_type": "markdown",
   "metadata": {},
   "source": [
    "九江新闻： https://www.jjntv.cn/channel?spm=0.0.0.0.FdDLyF&id=72\n",
    "\n",
    "https://video.yun.jxntv.cn/fs/transcode/20221101/15d/694090_1667307117_transv.mp4\n",
    "\n",
    "许昌新闻：http://v.xctv.cn/videos/category/1?page_id=1\n",
    "\n",
    "http://source.xctv.cn/upload/videos/2022/11/Vz52d6NjlsqnsbpXTPvx_04_f09ca9542f35ce6bdb49feb1c2c7c866_video_1080p_converted.mp4\n",
    "\n",
    "襄阳新闻：在http://www.xyrtv.com/search/lists.html 搜襄阳新闻73\n",
    "\n",
    "https://videoplus.cjyun.org/20221010/2376787_2376787_1665407526_transv.mp4\n",
    "\n",
    "三沙新闻：http://www.sansha.gov.cn/sansha/sswshi/nlists3.shtml\n",
    "\n",
    "http://www.sansha.gov.cn/sansha/dsgtrfbxdc/202210/fdadf069fd974ce5abd7aa9aa41df8c6/files/1462d15d6920464b86f7a20075a834b5.mp4\n",
    "\n",
    "莆田新闻：https://www.ptbtv.com/vod/folder56/folder58/folder69/"
   ]
  },
  {
   "cell_type": "markdown",
   "metadata": {},
   "source": [
    "# 襄阳"
   ]
  },
  {
   "cell_type": "code",
   "execution_count": null,
   "metadata": {
    "scrolled": true,
    "tags": []
   },
   "outputs": [],
   "source": [
    "import chardet\n",
    "from bs4 import BeautifulSoup\n",
    "\n",
    "headers = {\n",
    "    \"User-Agent\": \"Mozilla/5.0 (Macintosh; Intel Mac OS X 10_11_5) AppleWebKit/537.36 (KHTML, like Gecko) Chrome/50.0.2661.102 Safari/537.36\"\n",
    "}\n",
    "html_dir = []\n",
    "for i in range(72):\n",
    "    rqg = requests.get(\n",
    "        \"http://www.xyrtv.com/search/lists.html?keyword=%E8%A5%84%E9%98%B3%E6%96%B0%E9%97%BB&page={data}\".format(\n",
    "            data=str(i + 1)\n",
    "        ),\n",
    "        headers=headers,\n",
    "        timeout=3.0,\n",
    "    )  # .content\n",
    "    rqg.encoding = chardet.detect(rqg.content)[\"encoding\"]\n",
    "    html = rqg.content.decode(\"utf-8\")\n",
    "    soup = BeautifulSoup(html, \"lxml\")  # 生成BeautifulSoup对象\n",
    "    for item in soup.find_all(class_=\"media-left\"):\n",
    "        try:\n",
    "            # print('http://www.xyrtv.com' + str(item.contents[1]).split('href=\"')[1].split('\">')[0])\n",
    "            html_dir.append(\n",
    "                \"http://www.xyrtv.com\"\n",
    "                + str(item.contents[1]).split('href=\"')[1].split('\">')[0]\n",
    "            )\n",
    "        except:\n",
    "            pass"
   ]
  },
  {
   "cell_type": "code",
   "execution_count": null,
   "metadata": {
    "tags": []
   },
   "outputs": [],
   "source": [
    "len(html_dir)"
   ]
  },
  {
   "cell_type": "code",
   "execution_count": null,
   "metadata": {
    "scrolled": true,
    "tags": []
   },
   "outputs": [],
   "source": [
    "from tqdm import tqdm\n",
    "\n",
    "video_dir = {}\n",
    "for item in tqdm(html_dir):\n",
    "    rqg = requests.get(item, headers=headers, timeout=10.0)  # .content\n",
    "    rqg.encoding = chardet.detect(rqg.content)[\"encoding\"]\n",
    "    html = rqg.content.decode(\"utf-8\")\n",
    "    soup = BeautifulSoup(html, \"lxml\")  # 生成BeautifulSoup对象\n",
    "    try:\n",
    "        video_dir[\n",
    "            \"\".join(\n",
    "                soup.find_all(class_=\"description\")[0]\n",
    "                .contents[0]\n",
    "                .split(\"襄阳新闻 \")[-1]\n",
    "                .split(\"-\")[1:]\n",
    "            )\n",
    "        ] = soup.find_all(class_=\"player\")[0].contents[0][\"src\"]\n",
    "    except:\n",
    "        print(item)"
   ]
  },
  {
   "cell_type": "code",
   "execution_count": null,
   "metadata": {
    "tags": []
   },
   "outputs": [],
   "source": [
    "from tqdm import tqdm\n",
    "\n",
    "# video_dir = {}\n",
    "for item in tqdm(html_dir[27:]):\n",
    "    rqg = requests.get(item, headers=headers, timeout=10.0)  # .content\n",
    "    rqg.encoding = chardet.detect(rqg.content)[\"encoding\"]\n",
    "    html = rqg.content.decode(\"utf-8\")\n",
    "    soup = BeautifulSoup(html, \"lxml\")  # 生成BeautifulSoup对象\n",
    "    try:\n",
    "        video_dir[\n",
    "            \"\".join(\n",
    "                soup.find_all(class_=\"description\")[0]\n",
    "                .contents[0]\n",
    "                .split(\"襄阳新闻 \")[-1]\n",
    "                .split(\"-\")[1:]\n",
    "            )\n",
    "        ] = soup.find_all(class_=\"player\")[0].contents[0][\"src\"]\n",
    "    except:\n",
    "        print(item)"
   ]
  },
  {
   "cell_type": "code",
   "execution_count": null,
   "metadata": {
    "tags": []
   },
   "outputs": [],
   "source": [
    "del video_dir[\"\"]"
   ]
  },
  {
   "cell_type": "code",
   "execution_count": null,
   "metadata": {
    "tags": []
   },
   "outputs": [],
   "source": [
    "len(video_dir)"
   ]
  },
  {
   "cell_type": "code",
   "execution_count": null,
   "metadata": {},
   "outputs": [],
   "source": [
    "import pickle\n",
    "\n",
    "# with open(\"/data/lss/deepenv/deepenv-data/news_xuchang.pkl\", \"wb\") as f:\n",
    "with open(\"./pachong/pkl/news_xiangyang.pkl\", \"wb\") as f:\n",
    "    pickle.dump(video_dir, f)"
   ]
  },
  {
   "cell_type": "code",
   "execution_count": null,
   "metadata": {
    "scrolled": true,
    "tags": []
   },
   "outputs": [],
   "source": [
    "with open(\"./pachong/pkl/news_xiangyang.pkl\", \"rb\") as f:\n",
    "    video_dir_new = pickle.load(f)\n",
    "video_dir_new"
   ]
  },
  {
   "cell_type": "code",
   "execution_count": null,
   "metadata": {},
   "outputs": [],
   "source": []
  },
  {
   "cell_type": "code",
   "execution_count": null,
   "metadata": {
    "tags": []
   },
   "outputs": [],
   "source": [
    "for date, link in tqdm(video_dir_new.items()):\n",
    "    rqg = requests.get(link, headers=headers, timeout=3.0)\n",
    "    rqg.encoding = chardet.detect(rqg.content)[\"encoding\"]\n",
    "    html = rqg.content.decode(\"utf-8\")\n",
    "    soup = BeautifulSoup(html, \"lxml\")  # 生成BeautifulSoup对象\n",
    "    sid = (\n",
    "        str(soup.find(\"script\"))\n",
    "        .replace(\"\\r\\n        \", \"\")\n",
    "        .split(\"sid='\")[1]\n",
    "        .split(\"';var\")[0]\n",
    "    )\n",
    "    vid = (\n",
    "        str(soup.find(\"script\"))\n",
    "        .replace(\"\\r\\n        \", \"\")\n",
    "        .split(\"php_vid='\")[1]\n",
    "        .split(\"';var\")[0]\n",
    "    )\n",
    "    tmp = \"https://app.cjyun.org/video/player/video?sid={sid}&vid={vid}&type=video\".format(\n",
    "        sid=sid, vid=vid\n",
    "    )\n",
    "    video_dir_new[date] = json.loads(\n",
    "        requests.get(tmp, headers=headers, timeout=3.0).text\n",
    "    )[\"file\"][\"sd\"]"
   ]
  },
  {
   "cell_type": "code",
   "execution_count": null,
   "metadata": {
    "tags": []
   },
   "outputs": [],
   "source": [
    "import pickle\n",
    "\n",
    "# with open(\"/data/lss/deepenv/deepenv-data/news_xuchang.pkl\", \"wb\") as f:\n",
    "with open(\"./pachong/pkl/news_xiangyang.pkl\", \"wb\") as f:\n",
    "    pickle.dump(video_dir_new, f)"
   ]
  },
  {
   "cell_type": "code",
   "execution_count": null,
   "metadata": {
    "scrolled": true,
    "tags": []
   },
   "outputs": [],
   "source": [
    "video_dir_new"
   ]
  },
  {
   "cell_type": "markdown",
   "metadata": {},
   "source": [
    "# 三沙"
   ]
  },
  {
   "cell_type": "code",
   "execution_count": null,
   "metadata": {
    "scrolled": true,
    "tags": []
   },
   "outputs": [],
   "source": [
    "import chardet\n",
    "from bs4 import BeautifulSoup\n",
    "\n",
    "headers = {\n",
    "    \"User-Agent\": \"Mozilla/5.0 (Macintosh; Intel Mac OS X 10_11_5) AppleWebKit/537.36 (KHTML, like Gecko) Chrome/50.0.2661.102 Safari/537.36\"\n",
    "}\n",
    "html_dir = []\n",
    "for i in tqdm(range(32)):\n",
    "    rqg = requests.get(\n",
    "        \"http://www.sansha.gov.cn/s/?searchWord=%25E6%2597%25A5%25E3%2580%258A%25E4%25B8%2589%25E6%25B2%2599%25E6%2596%25B0%25E9%2597%25BB%25E3%2580%258B&column=%25E5%2585%25A8%25E7%25AB%2599&pageSize=10&pageNum={data}&siteCode=4603000001&sonSiteCode=&checkHandle=1&searchSource=0&areaSearchFlag=0&secondSearchWords=&topical=&docName=&label=&countKey=0&uc=0&left_right_index=0&searchBoxSettingsIndex=&manualWord=%25E6%2597%25A5%25E3%2580%258A%25E4%25B8%2589%25E6%25B2%2599%25E6%2596%25B0%25E9%2597%25BB%25E3%2580%258B&orderBy=1&startTime=2021-01-01%2000:00:00&endTime=&timeStamp=5&strFileType=&wordPlace=1\".format(\n",
    "            data=str(i + 1)\n",
    "        ),\n",
    "        headers=headers,\n",
    "        timeout=3.0,\n",
    "    )  # .content\n",
    "    rqg.encoding = chardet.detect(rqg.content)[\"encoding\"]\n",
    "    html = rqg.content.decode(\"utf-8\")\n",
    "    soup = BeautifulSoup(html, \"lxml\")  # 生成BeautifulSoup对象\n",
    "    # break\n",
    "    for item in soup.find_all(target=\"_blank\"):\n",
    "        if \"三沙新闻\" in str(item):\n",
    "            html_dir.append(item[\"href\"])"
   ]
  },
  {
   "cell_type": "code",
   "execution_count": null,
   "metadata": {
    "scrolled": true,
    "tags": []
   },
   "outputs": [],
   "source": [
    "html_dir = list(set(html_dir))\n",
    "len(html_dir)"
   ]
  },
  {
   "cell_type": "code",
   "execution_count": null,
   "metadata": {
    "tags": []
   },
   "outputs": [],
   "source": [
    "import re\n",
    "\n",
    "\n",
    "def date_trans(date):\n",
    "    date_list = re.split(\"[年月日]\", date)  # [:-1]\n",
    "    date_list_1 = [\"0\" + d if len(d) == 1 else d for d in date_list]\n",
    "    return \"\".join(date_list_1)"
   ]
  },
  {
   "cell_type": "code",
   "execution_count": null,
   "metadata": {
    "tags": []
   },
   "outputs": [],
   "source": [
    "from tqdm import tqdm\n",
    "\n",
    "video_dir = {}\n",
    "for item in tqdm(html_dir):\n",
    "    rqg = requests.get(item, headers=headers, timeout=3.0)  # .content\n",
    "    rqg.encoding = chardet.detect(rqg.content)[\"encoding\"]\n",
    "    html = rqg.content.decode(\"utf-8\")\n",
    "    soup = BeautifulSoup(html, \"lxml\")  # 生成BeautifulSoup对象\n",
    "    try:\n",
    "        video_dir[\n",
    "            date_trans(\n",
    "                soup.title.contents[0].replace(\"\\n\", \"\").replace(\"\\r\", \"\").split(\"日\")[0]\n",
    "            )\n",
    "        ] = (\n",
    "            \"http://www.sansha.gov.cn\"\n",
    "            + soup.find(id=\"zoom\").find_all(\"param\")[0][\"value\"]\n",
    "        )\n",
    "    except:\n",
    "        print(item)"
   ]
  },
  {
   "cell_type": "code",
   "execution_count": null,
   "metadata": {
    "tags": []
   },
   "outputs": [],
   "source": [
    "del_list = []\n",
    "for key, value in video_dir.items():\n",
    "    if value == \"http://www.sansha.gov.cn\":\n",
    "        del_list.append(key)\n",
    "for key in del_list:\n",
    "    del video_dir[key]"
   ]
  },
  {
   "cell_type": "code",
   "execution_count": null,
   "metadata": {},
   "outputs": [],
   "source": [
    "len(video_dir)"
   ]
  },
  {
   "cell_type": "code",
   "execution_count": null,
   "metadata": {
    "scrolled": true,
    "tags": []
   },
   "outputs": [],
   "source": [
    "video_dir"
   ]
  },
  {
   "cell_type": "code",
   "execution_count": null,
   "metadata": {},
   "outputs": [],
   "source": [
    "import pickle\n",
    "\n",
    "# with open(\"/data/lss/deepenv/deepenv-data/news_xuchang.pkl\", \"wb\") as f:\n",
    "with open(\"./pachong/pkl/news_sansha.pkl\", \"wb\") as f:\n",
    "    pickle.dump(video_dir, f)"
   ]
  },
  {
   "cell_type": "markdown",
   "metadata": {},
   "source": [
    "# 莆田"
   ]
  },
  {
   "cell_type": "code",
   "execution_count": null,
   "metadata": {
    "tags": []
   },
   "outputs": [],
   "source": [
    "# import chardet\n",
    "# from bs4 import BeautifulSoup\n",
    "\n",
    "# headers = {\n",
    "#     \"User-Agent\": \"Mozilla/5.0 (Macintosh; Intel Mac OS X 10_11_5) AppleWebKit/537.36 (KHTML, like Gecko) Chrome/50.0.2661.102 Safari/537.36\"\n",
    "# }\n",
    "# html_dir = []\n",
    "# for i in range(15):\n",
    "#     rqg = requests.get(\n",
    "#         \"https://app.yun.jxntv.cn/content/index/list?siteid=10045&catids=72&page={data}&pagesize=10&callback=_jsonpigfr1qyikjj\".format(\n",
    "#             data=str(i + 1)\n",
    "#         ),\n",
    "#         headers=headers,\n",
    "#         timeout=10.0,\n",
    "#     )  # .content\n",
    "#     rqg.encoding = chardet.detect(rqg.content)[\"encoding\"]\n",
    "#     html = rqg.content.decode(\"utf-8\")\n",
    "#     soup = BeautifulSoup(html, \"lxml\")  # 生成BeautifulSoup对象\n",
    "#     for item in json.loads(\n",
    "#         soup.body.contents[0].contents[0].split(\"_jsonpigfr1qyikjj(\")[1].split(\");\")[0]\n",
    "#     )[\"data\"]:\n",
    "#         try:\n",
    "#             html_dir.append(item[\"url\"])\n",
    "#         except:\n",
    "#             pass"
   ]
  },
  {
   "cell_type": "code",
   "execution_count": null,
   "metadata": {},
   "outputs": [],
   "source": []
  },
  {
   "cell_type": "raw",
   "metadata": {},
   "source": [
    "葫芦岛新闻\n",
    "http://www.hldbtv.com/ProgramsData/Channel_24/Index.aspx\n",
    "聊城新闻\n",
    "http://www.lcbtv.com/cms/columns/vod-lcxw/news\n",
    "张掖新闻\n",
    "http://www.zgzyw.com.cn/zgzyw/shitin/zysgbdst/index.shtml\n",
    "镇江新闻\n",
    "https://www.zjmc.tv/search.html?a=%u65B0%u95FB%u9547%u6C5F\n",
    "恩施新闻\n",
    "https://estv.com.cn/esxwlb/index.htm"
   ]
  },
  {
   "cell_type": "markdown",
   "metadata": {},
   "source": [
    "# 葫芦岛\n",
    "http://video.hldbtv.com/ProgramVOD/2022/4/10/9d638b6307d14205947f94e85af5fbf1.mp4"
   ]
  },
  {
   "cell_type": "code",
   "execution_count": null,
   "metadata": {
    "tags": []
   },
   "outputs": [],
   "source": [
    "import chardet\n",
    "from bs4 import BeautifulSoup\n",
    "\n",
    "headers = {\n",
    "    \"User-Agent\": \"Mozilla/5.0 (Macintosh; Intel Mac OS X 10_11_5) AppleWebKit/537.36 (KHTML, like Gecko) Chrome/50.0.2661.102 Safari/537.36\"\n",
    "}\n",
    "html_dir = []\n",
    "for i in range(156):\n",
    "    rqg = requests.get(\n",
    "        \"http://www.hldbtv.com/ProgramsData/Channel_24/Index_{data}.aspx\".format(\n",
    "            data=str(i + 1)\n",
    "        ),\n",
    "        headers=headers,\n",
    "        timeout=10.0,\n",
    "    )  # .content\n",
    "    rqg.encoding = chardet.detect(rqg.content)[\"encoding\"]\n",
    "    html = rqg.content.decode(\"utf-8\")\n",
    "    soup = BeautifulSoup(html, \"lxml\")  # 生成BeautifulSoup对象\n",
    "    for item in soup.find_all(target=\"_blank\"):\n",
    "        if \"日葫芦岛新闻\" in item.contents[0]:\n",
    "            html_dir.append(\"http://www.hldbtv.com\" + item[\"href\"])\n",
    "\n",
    "#     break\n",
    "#     for item in json.loads(\n",
    "#         soup.body.contents[0].contents[0].split(\"_jsonpigfr1qyikjj(\")[1].split(\");\")[0]\n",
    "#     )[\"data\"]:\n",
    "#         try:\n",
    "#             html_dir.append(item[\"url\"])\n",
    "#         except:\n",
    "#             pass"
   ]
  },
  {
   "cell_type": "code",
   "execution_count": null,
   "metadata": {
    "scrolled": true,
    "tags": []
   },
   "outputs": [],
   "source": [
    "html_dir = list(set(html_dir))\n",
    "len(html_dir)"
   ]
  },
  {
   "cell_type": "code",
   "execution_count": null,
   "metadata": {
    "tags": []
   },
   "outputs": [],
   "source": [
    "import re\n",
    "\n",
    "\n",
    "def date_trans(date):\n",
    "    date_list = re.split(\"[年月日]\", date)[1:]\n",
    "    date_list_1 = [\"0\" + d if len(d) == 1 else d for d in date_list]\n",
    "    return \"\".join(date_list_1)"
   ]
  },
  {
   "cell_type": "code",
   "execution_count": null,
   "metadata": {
    "tags": []
   },
   "outputs": [],
   "source": [
    "from tqdm import tqdm\n",
    "\n",
    "video_dir = {}\n",
    "for item in tqdm(html_dir):\n",
    "    rqg = requests.get(item, headers=headers, timeout=3.0)  # .content\n",
    "    rqg.encoding = chardet.detect(rqg.content)[\"encoding\"]\n",
    "    html = rqg.content.decode(\"utf-8\")\n",
    "    soup = BeautifulSoup(html, \"lxml\")  # 生成BeautifulSoup对象\n",
    "    # break\n",
    "    try:\n",
    "        video_dir[\n",
    "            date_trans(\n",
    "                soup.find_all(id=\"m_newsTitle\")[0].contents[0].replace(\"葫芦岛新闻\", \"\")\n",
    "            )\n",
    "        ] = (\n",
    "            str(soup.find_all(type=\"text/javascript\")[2])\n",
    "            .split(\"video=['\")[1]\n",
    "            .split(\"->video/mp4']\")[0]\n",
    "        )\n",
    "    except:\n",
    "        print(item)"
   ]
  },
  {
   "cell_type": "code",
   "execution_count": null,
   "metadata": {
    "tags": []
   },
   "outputs": [],
   "source": [
    "len(video_dir)"
   ]
  },
  {
   "cell_type": "code",
   "execution_count": null,
   "metadata": {
    "tags": []
   },
   "outputs": [],
   "source": [
    "date_trans(soup.find_all(id=\"m_newsTitle\")[0].contents[0].replace(\"葫芦岛新闻\", \"\"))"
   ]
  },
  {
   "cell_type": "code",
   "execution_count": null,
   "metadata": {
    "tags": []
   },
   "outputs": [],
   "source": [
    "str(soup.find_all(type=\"text/javascript\")[2]).split(\"video=['\")[1].split(\n",
    "    \"->video/mp4']\"\n",
    ")[0]"
   ]
  },
  {
   "cell_type": "code",
   "execution_count": null,
   "metadata": {
    "scrolled": true,
    "tags": []
   },
   "outputs": [],
   "source": [
    "with open(\"./pachong/pkl/news_huludao.pkl\", \"wb\") as f:\n",
    "    pickle.dump(video_dir, f)"
   ]
  },
  {
   "cell_type": "markdown",
   "metadata": {},
   "source": [
    "# 聊城\n",
    "http://www.lcbtv.com/cms/a/48235434/content\n",
    "http://file.lcbtv.com/media/2022-09-13/11292705/2a891176dcbf7ef65e51c6235b403254MP4.mp4"
   ]
  },
  {
   "cell_type": "code",
   "execution_count": null,
   "metadata": {
    "tags": []
   },
   "outputs": [],
   "source": [
    "import chardet\n",
    "from bs4 import BeautifulSoup\n",
    "\n",
    "headers = {\n",
    "    \"User-Agent\": \"Mozilla/5.0 (Macintosh; Intel Mac OS X 10_11_5) AppleWebKit/537.36 (KHTML, like Gecko) Chrome/50.0.2661.102 Safari/537.36\"\n",
    "}\n",
    "html_dir = []\n",
    "for i in range(16):\n",
    "    rqg = requests.get(\n",
    "        \"http://www.lcbtv.com/cms/columns/vod-lcxw/news?page={data}\".format(\n",
    "            data=str(i + 1)\n",
    "        ),\n",
    "        headers=headers,\n",
    "        timeout=10.0,\n",
    "    )  # .content\n",
    "    rqg.encoding = chardet.detect(rqg.content)[\"encoding\"]\n",
    "    html = rqg.content.decode(\"utf-8\")\n",
    "    soup = BeautifulSoup(html, \"lxml\")  # 生成BeautifulSoup对象\n",
    "    for item in soup.find_all(target=\"_blank\"):\n",
    "        if \"聊城新闻2022\" in item.contents[0]:\n",
    "            html_dir.append(\"http://www.lcbtv.com\" + item[\"href\"].replace(\" \", \"\"))\n",
    "\n",
    "    # break\n",
    "#     for item in json.loads(\n",
    "#         soup.body.contents[0].contents[0].split(\"_jsonpigfr1qyikjj(\")[1].split(\");\")[0]\n",
    "#     )[\"data\"]:\n",
    "#         try:\n",
    "#             html_dir.append(item[\"url\"])\n",
    "#         except:\n",
    "#             pass"
   ]
  },
  {
   "cell_type": "code",
   "execution_count": null,
   "metadata": {
    "tags": []
   },
   "outputs": [],
   "source": [
    "len(html_dir)"
   ]
  },
  {
   "cell_type": "code",
   "execution_count": null,
   "metadata": {
    "scrolled": true,
    "tags": []
   },
   "outputs": [],
   "source": [
    "import time\n",
    "\n",
    "from tqdm import tqdm\n",
    "\n",
    "video_dir = {}\n",
    "for item in tqdm(html_dir):\n",
    "    rqg = requests.get(item, headers=headers, timeout=3.0)  # .content\n",
    "\n",
    "    rqg.encoding = chardet.detect(rqg.content)[\"encoding\"]\n",
    "    html = rqg.content.decode(\"utf-8\")\n",
    "    soup = BeautifulSoup(html, \"lxml\")  # 生成BeautifulSoup对象\n",
    "    # break\n",
    "    try:\n",
    "        tmp = json.loads(\n",
    "            str(soup.find_all(type=\"hidden\")[3]).split(\"value='\")[1].split(\"'/>\")[0]\n",
    "        )\n",
    "        video_dir[tmp[\"videos\"][0][\"title\"][4:8]] = tmp[\"videos\"][0][\"versions\"][0][\n",
    "            \"url\"\n",
    "        ]\n",
    "    except:\n",
    "        print(item)"
   ]
  },
  {
   "cell_type": "code",
   "execution_count": null,
   "metadata": {
    "tags": []
   },
   "outputs": [],
   "source": [
    "video_dir[\n",
    "    \"0205\"\n",
    "] = \"http://file.lcbtv.com/media/2022-02-05/5021818/6D5FF7954471B005E137906813B8F9A0MP4.mp4\"\n",
    "video_dir[\n",
    "    \"0204\"\n",
    "] = \"http://file.lcbtv.com/media/2022-02-05/5024006/34DE099995072652D8EF2A0ACC198368MP4.mp4\"\n",
    "video_dir[\n",
    "    \"0109\"\n",
    "] = \"http://file.lcbtv.com/nmip-media-dz/2022-01-09/9234728548-v0-mp4/33DBBBDA480A14D48B30CA2EA8D12EA0.mp4\"\n",
    "video_dir[\n",
    "    \"0108\"\n",
    "] = \"http://file.lcbtv.com/nmip-media-dz/2022-01-08/9231246247-v0-mp4/71E5DBCB9622411CFA99EA7FDEF1D0D8.mp4\""
   ]
  },
  {
   "cell_type": "code",
   "execution_count": null,
   "metadata": {},
   "outputs": [],
   "source": []
  },
  {
   "cell_type": "code",
   "execution_count": null,
   "metadata": {
    "tags": []
   },
   "outputs": [],
   "source": [
    "len(video_dir)"
   ]
  },
  {
   "cell_type": "code",
   "execution_count": null,
   "metadata": {
    "scrolled": true,
    "tags": []
   },
   "outputs": [],
   "source": [
    "video_dir"
   ]
  },
  {
   "cell_type": "code",
   "execution_count": null,
   "metadata": {},
   "outputs": [],
   "source": []
  },
  {
   "cell_type": "code",
   "execution_count": null,
   "metadata": {
    "scrolled": true,
    "tags": []
   },
   "outputs": [],
   "source": [
    "with open(\"./pachong/pkl/news_liaocheng.pkl\", \"wb\") as f:\n",
    "    pickle.dump(video_dir, f)"
   ]
  },
  {
   "cell_type": "raw",
   "metadata": {},
   "source": [
    "葫芦岛新闻\n",
    "http://www.hldbtv.com/ProgramsData/Channel_24/Index.aspx\n",
    "聊城新闻\n",
    "http://www.lcbtv.com/cms/columns/vod-lcxw/news\n",
    "张掖新闻\n",
    "http://www.zgzyw.com.cn/zgzyw/shitin/zysgbdst/index.shtml\n",
    "镇江新闻\n",
    "https://www.zjmc.tv/search.html?a=%u65B0%u95FB%u9547%u6C5F\n",
    "恩施新闻\n",
    "https://estv.com.cn/esxwlb/index.htm"
   ]
  },
  {
   "cell_type": "markdown",
   "metadata": {},
   "source": [
    "# 张掖\n",
    "http://www.zgzyw.com.cn/zgzyw/system/2022/11/08/030232466.shtml \\n\n",
    "http://www.zgzyw.com.cn/video/003/001/931/00300193101_vw00000000000001_99bb9272.mp4"
   ]
  },
  {
   "cell_type": "code",
   "execution_count": null,
   "metadata": {
    "tags": []
   },
   "outputs": [],
   "source": [
    "import chardet\n",
    "from bs4 import BeautifulSoup\n",
    "\n",
    "headers = {\n",
    "    \"User-Agent\": \"Mozilla/5.0 (Macintosh; Intel Mac OS X 10_11_5) AppleWebKit/537.36 (KHTML, like Gecko) Chrome/50.0.2661.102 Safari/537.36\"\n",
    "}\n",
    "html_dir = []\n",
    "for i in range(42):\n",
    "    rqg = requests.get(\n",
    "        \"http://www.zgzyw.com.cn/zgzyw/system/count//0021006/001000000000/000/000/c0021006001000000000_000000{data}.shtml\".format(\n",
    "            data=str(250 - i)\n",
    "        ),\n",
    "        headers=headers,\n",
    "        timeout=10.0,\n",
    "    )  # .content\n",
    "    rqg.encoding = chardet.detect(rqg.content)[\"encoding\"]\n",
    "    html = rqg.content.decode(\"utf-8\")\n",
    "    soup = BeautifulSoup(html, \"lxml\")  # 生成BeautifulSoup对象\n",
    "    for item in soup.find_all(target=\"_blank\"):\n",
    "        try:\n",
    "            if \"《张掖新闻》2022\" in item.contents[0]:\n",
    "                html_dir.append(item[\"href\"])\n",
    "        except:\n",
    "            pass"
   ]
  },
  {
   "cell_type": "code",
   "execution_count": null,
   "metadata": {
    "scrolled": true,
    "tags": []
   },
   "outputs": [],
   "source": [
    "html_dir = list(set(html_dir))\n",
    "len(html_dir)"
   ]
  },
  {
   "cell_type": "code",
   "execution_count": null,
   "metadata": {
    "scrolled": true,
    "tags": []
   },
   "outputs": [],
   "source": [
    "import time\n",
    "\n",
    "from tqdm import tqdm\n",
    "\n",
    "video_dir = {}\n",
    "for item in tqdm(html_dir):\n",
    "    rqg = requests.get(item, headers=headers, timeout=3.0)  # .content\n",
    "\n",
    "    rqg.encoding = chardet.detect(rqg.content)[\"encoding\"]\n",
    "    html = rqg.content.decode(\"utf-8\")\n",
    "    soup = BeautifulSoup(html, \"lxml\")  # 生成BeautifulSoup对象\n",
    "    # break\n",
    "    try:\n",
    "        video_dir[date_trans(soup.title.contents[0].replace(\"《张掖新闻》\", \"\"))] = (\n",
    "            soup.video.contents[0][\"src\"]\n",
    "            .replace(\"\\t\", \"\")\n",
    "            .replace(\"\\r\", \"\")\n",
    "            .replace(\"\\n\", \"\")\n",
    "            .replace(\" \", \"\")\n",
    "        )\n",
    "    except:\n",
    "        print(item)"
   ]
  },
  {
   "cell_type": "code",
   "execution_count": null,
   "metadata": {},
   "outputs": [],
   "source": [
    "video_dir[\n",
    "    \"0809\"\n",
    "] = \"http://www.zgzyw.com.cn/video/003/001/843/00300184380_vw00000000000001_81ff6502.mp4\""
   ]
  },
  {
   "cell_type": "code",
   "execution_count": null,
   "metadata": {
    "tags": []
   },
   "outputs": [],
   "source": [
    "len(video_dir)"
   ]
  },
  {
   "cell_type": "code",
   "execution_count": null,
   "metadata": {
    "scrolled": true,
    "tags": []
   },
   "outputs": [],
   "source": [
    "video_dir"
   ]
  },
  {
   "cell_type": "code",
   "execution_count": null,
   "metadata": {
    "scrolled": true,
    "tags": []
   },
   "outputs": [],
   "source": [
    "with open(\"./pachong/pkl/news_zhangye.pkl\", \"wb\") as f:\n",
    "    pickle.dump(video_dir, f)"
   ]
  },
  {
   "cell_type": "markdown",
   "metadata": {},
   "source": [
    "# 恩施\n",
    "https://estv.com.cn/esxwlb/2519528.htm \\n\n",
    "https://lres.cloudhubei.com.cn/c3/litedfs/resource/001cmsVideo/node1/20221024/47efb04c3306a5a0a0b31900725299b4e85499e017b24eb8af3e5c20206619e7.mp4"
   ]
  },
  {
   "cell_type": "code",
   "execution_count": null,
   "metadata": {
    "tags": []
   },
   "outputs": [],
   "source": [
    "import chardet\n",
    "from bs4 import BeautifulSoup\n",
    "\n",
    "headers = {\n",
    "    \"User-Agent\": \"Mozilla/5.0 (Macintosh; Intel Mac OS X 10_11_5) AppleWebKit/537.36 (KHTML, like Gecko) Chrome/50.0.2661.102 Safari/537.36\"\n",
    "}\n",
    "html_dir = []\n",
    "for i in range(17):\n",
    "    rqg = requests.get(\n",
    "        \"https://estv.com.cn/esxwlb/index_{data}.html\".format(data=str(i + 1)),\n",
    "        headers=headers,\n",
    "        timeout=10.0,\n",
    "    )  # .content\n",
    "    rqg.encoding = chardet.detect(rqg.content)[\"encoding\"]\n",
    "    html = rqg.content.decode(\"utf-8\")\n",
    "    soup = BeautifulSoup(html, \"lxml\")  # 生成BeautifulSoup对象\n",
    "    # break\n",
    "    for item in soup.find_all(\"a\"):\n",
    "        try:\n",
    "            if \"http://estv.com.cn/\" in item[\"href\"]:\n",
    "                html_dir.append(item[\"href\"])\n",
    "        except:\n",
    "            pass"
   ]
  },
  {
   "cell_type": "code",
   "execution_count": null,
   "metadata": {
    "scrolled": true,
    "tags": []
   },
   "outputs": [],
   "source": [
    "html_dir = list(set(html_dir))\n",
    "len(html_dir)"
   ]
  },
  {
   "cell_type": "code",
   "execution_count": null,
   "metadata": {
    "scrolled": true,
    "tags": []
   },
   "outputs": [],
   "source": [
    "import time\n",
    "\n",
    "from tqdm import tqdm\n",
    "\n",
    "video_dir = {}\n",
    "for item in tqdm(html_dir):\n",
    "    rqg = requests.get(item, headers=headers, timeout=10.0)  # .content\n",
    "\n",
    "    rqg.encoding = chardet.detect(rqg.content)[\"encoding\"]\n",
    "    html = rqg.content.decode(\"utf-8\")\n",
    "    soup = BeautifulSoup(html, \"lxml\")  # 生成BeautifulSoup对象\n",
    "    # time.sleep(0.3)\n",
    "    try:\n",
    "        video_dir[\n",
    "            date_trans(soup.find_all(\"h2\")[0].contents[0].replace(\"恩施新闻联播 \", \"\"))\n",
    "        ] = soup.find_all(class_=\"video-js\")[0].source[\"src\"]\n",
    "    except:\n",
    "        \n",
    "        print(item)"
   ]
  },
  {
   "cell_type": "code",
   "execution_count": null,
   "metadata": {
    "scrolled": true,
    "tags": []
   },
   "outputs": [],
   "source": [
    "\n",
    "for item in tqdm(html_dir[150:]):\n",
    "    rqg = requests.get(item, headers=headers, timeout=10.0)  # .content\n",
    "\n",
    "    rqg.encoding = chardet.detect(rqg.content)[\"encoding\"]\n",
    "    html = rqg.content.decode(\"utf-8\")\n",
    "    soup = BeautifulSoup(html, \"lxml\")  # 生成BeautifulSoup对象\n",
    "    # time.sleep(0.3)\n",
    "    try:\n",
    "        video_dir[\n",
    "            date_trans(soup.find_all(\"h2\")[0].contents[0].replace(\"恩施新闻联播 \", \"\"))\n",
    "        ] = soup.find_all(class_=\"video-js\")[0].source[\"src\"]\n",
    "    except:\n",
    "        \n",
    "        print(item)"
   ]
  },
  {
   "cell_type": "code",
   "execution_count": null,
   "metadata": {},
   "outputs": [],
   "source": []
  },
  {
   "cell_type": "code",
   "execution_count": null,
   "metadata": {
    "tags": []
   },
   "outputs": [],
   "source": [
    "len(video_dir)"
   ]
  },
  {
   "cell_type": "code",
   "execution_count": null,
   "metadata": {
    "scrolled": true,
    "tags": []
   },
   "outputs": [],
   "source": [
    "video_dir"
   ]
  },
  {
   "cell_type": "code",
   "execution_count": null,
   "metadata": {},
   "outputs": [],
   "source": []
  },
  {
   "cell_type": "code",
   "execution_count": null,
   "metadata": {
    "scrolled": true,
    "tags": []
   },
   "outputs": [],
   "source": [
    "with open(\"./pachong/pkl/news_enshi.pkl\", \"wb\") as f:\n",
    "    pickle.dump(video_dir, f)"
   ]
  },
  {
   "cell_type": "code",
   "execution_count": null,
   "metadata": {},
   "outputs": [],
   "source": []
  },
  {
   "cell_type": "markdown",
   "metadata": {},
   "source": [
    "# 镇江\n",
    "ts 不会\n",
    "https://www.zjmc.tv/videodetail.html?id=2c93000882c5083e01844772f48c08e1"
   ]
  },
  {
   "cell_type": "code",
   "execution_count": null,
   "metadata": {},
   "outputs": [],
   "source": []
  }
 ],
 "metadata": {
  "kernelspec": {
   "display_name": "Python 3.8.9 64-bit",
   "language": "python",
   "name": "python3"
  },
  "language_info": {
   "codemirror_mode": {
    "name": "ipython",
    "version": 3
   },
   "file_extension": ".py",
   "mimetype": "text/x-python",
   "name": "python",
   "nbconvert_exporter": "python",
   "pygments_lexer": "ipython3",
   "version": "3.8.9"
  },
  "vscode": {
   "interpreter": {
    "hash": "31f2aee4e71d21fbe5cf8b01ff0e069b9275f58929596ceb00d14d90e3e16cd6"
   }
  },
  "widgets": {
   "application/vnd.jupyter.widget-state+json": {
    "state": {},
    "version_major": 2,
    "version_minor": 0
   }
  }
 },
 "nbformat": 4,
 "nbformat_minor": 4
}
